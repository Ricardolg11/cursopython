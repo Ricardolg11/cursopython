{
  "nbformat": 4,
  "nbformat_minor": 0,
  "metadata": {
    "colab": {
      "provenance": []
    },
    "kernelspec": {
      "name": "python3",
      "display_name": "Python 3"
    },
    "language_info": {
      "name": "python"
    }
  },
  "cells": [
    {
      "cell_type": "code",
      "execution_count": 25,
      "metadata": {
        "colab": {
          "base_uri": "https://localhost:8080/"
        },
        "id": "_Lo7J5ubyMNW",
        "outputId": "dea7298e-a7b4-4ac5-8cdb-7769090ace09"
      },
      "outputs": [
        {
          "output_type": "stream",
          "name": "stdout",
          "text": [
            "Digite um numero: 5\n",
            "Digite um outro numero: 5\n",
            "Qual operação deseja efetua +, -, x, /: -\n",
            "0\n"
          ]
        }
      ],
      "source": [
        "numero1 = input(\"Digite um numero: \");\n",
        "numero2 = input(\"Digite um outro numero: \");\n",
        "operacao = input(\"Qual operação deseja efetua +, -, x, /: \");\n",
        "\n",
        "n1 = int(numero1);\n",
        "n2 = int(numero2);\n",
        "\n",
        "if operacao == \"x\":\n",
        "    print(n1 * n2);\n",
        "elif operacao == \"/\":\n",
        "    print(n1 / n2);\n",
        "elif operacao == \"+\":\n",
        "    print(n1 + n2);\n",
        "elif operacao == \"-\":\n",
        "    print(n1 - n2);\n",
        "\n",
        "\n",
        "\n",
        "\n",
        "\n"
      ]
    }
  ]
}